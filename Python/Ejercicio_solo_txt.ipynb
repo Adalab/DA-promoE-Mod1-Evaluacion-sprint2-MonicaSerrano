{
 "cells": [
  {
   "cell_type": "code",
   "execution_count": 1,
   "metadata": {},
   "outputs": [],
   "source": [
    "import re"
   ]
  },
  {
   "cell_type": "code",
   "execution_count": 3,
   "metadata": {},
   "outputs": [],
   "source": [
    "# Creamos la clase\n",
    "class Editorial:\n",
    "\n",
    "    # Comenzamos haciendo el constructor que recibe dos parámetros: la ruta y el nombre del archivo con su extensión.\n",
    "    def __init__(self,direccion,nombre_archivo):\n",
    "        self.direccion = direccion\n",
    "        self.nombre_archivo = nombre_archivo\n",
    "\n",
    "    # Creamos un método de apertura de archivo, el cual no recibe parámetros y devuelve el contenido del archivo abierto en un solo string.\n",
    "    def apertura_archivo(self):\n",
    "\n",
    "        # Creamos la ruta a partir de la dirección y el nombre del archivo.\n",
    "        ruta = self.direccion + self.nombre_archivo\n",
    "\n",
    "        # Para evitar errores utilizamos un try que si no encuentra el archivo, lo muestre por pantalla sin que salga un error.\n",
    "        try:\n",
    "\n",
    "            # También se podría haber hecho f'{self.ruta}/{self.nombre_archivo}'\n",
    "            with open(ruta, 'r',encoding=\"latin-1\") as f:\n",
    "                contenido = f.read()\n",
    "                return contenido\n",
    "        except:\n",
    "            print(\"No se encuentra el archivo\")\n",
    "\n",
    "\n",
    "    # Creamos un método que nos muestra el numero de palabras que le especificamos en un parámetro.\n",
    "    def cuenta_palabras(self,numero_palabras):\n",
    "\n",
    "        # Llamamos al método de apertura de archivo.\n",
    "        texto = self.apertura_archivo()\n",
    "        \n",
    "        # Para evitar errores probamos que nos han pasado un dato de tipo int, si no sale un mensaje sin que sea un error.\n",
    "        if isinstance(numero_palabras,int) == True:\n",
    "\n",
    "            # Dividimos el texto por espacios.\n",
    "            texto = texto.split()\n",
    "\n",
    "            # Metemos en una nueva lista desde el indice 0 hasta el numero especificado de palabras.\n",
    "            lista_palabras = texto[:numero_palabras]\n",
    "\n",
    "            # Unimos todos los elementos en un mismo string.\n",
    "            palabras = \" \".join(lista_palabras)\n",
    "            return print(palabras)\n",
    "        else:\n",
    "            return print(\"La operación no se puede hacer porque necesitamos un dato de tipo int\")\n",
    "        \n",
    "    # Creamos un método que nos muestra en pantalla en número de líneas que le especificamos sin un parámetro.\n",
    "    def cuenta_lineas(self):\n",
    "\n",
    "        # Creamos la ruta sabiendo la dirección y el nombre del archivo con la extensión. Posteriormente, leemos el archivo de tal manera que tenemos una donde cada iterable es un línea.\n",
    "        ruta = self.direccion + self.nombre_archivo\n",
    "\n",
    "        with open(ruta, 'r',encoding=\"latin-1\") as f:\n",
    "            contenido = f.readlines()\n",
    "            \n",
    "        # Preguntamos al usuario a través de un input.\n",
    "        numero_lineas = input(\"¿Cuántas líneas quieres leer?\")\n",
    "\n",
    "        # Comprobamos si ha escrito todas, apendeamos todas las líneas y las unimos con un join. Utilizamos código defensivo para que no sea case sensitive.\n",
    "        if numero_lineas.upper() == \"TODAS\":\n",
    "            lineas = contenido[:len(contenido)]\n",
    "            texto_lineas = \" \".join(lineas)\n",
    "            return print(texto_lineas)\n",
    "        \n",
    "        else:\n",
    "\n",
    "            try: \n",
    "\n",
    "                # Comprobamos si el número introducido es un int, introducimos hasta el número de líneas en una lista y hacemos join para que salga en un solo string.\n",
    "                numero_lineas = int(numero_lineas)\n",
    "                lineas = contenido[:numero_lineas]\n",
    "                texto_lineas = \" \".join(lineas)\n",
    "                return print(texto_lineas)\n",
    "            \n",
    "            except:\n",
    "\n",
    "                # Si no es un int, saldrá una frase donde la operacion no se puede hacer.\n",
    "                return print(\"La operación no se puede hacer porque necesitamos un dato de tipo int o la palabra todas\")\n",
    "\n",
    "    # Creamos un método donde no se recibe nindún parámetro y como resultado obtenemos el texto del Quijote.\n",
    "    def leer_quijote(self):\n",
    "\n",
    "        # Creamos la ruta sabiendo la dirección y el nombre del archivo con la extensión. Posteriormente, leemos el archivo de tal manera que tenemos una donde cada iterable es un línea.\n",
    "        ruta = self.direccion + self.nombre_archivo\n",
    "\n",
    "        with open(ruta, 'r',encoding=\"latin-1\") as f:\n",
    "            contenido = f.readlines()\n",
    "\n",
    "        # Como explica el enunciado que el texto objetivo está entre unos números de líneas, las guardamos en un lista y lo juntamos en un join para que salga en un solo string.\n",
    "        lineas = contenido[1779:74276]\n",
    "        texto_lineas = \" \".join(lineas)\n",
    "        return texto_lineas\n",
    "    \n",
    "    # Creamos un método que recibe como parámerto, la palabra que vamos a contar cuantas veces aparece en el texto del quijote.\n",
    "    def aparicion_palabra(self,palabra):\n",
    "\n",
    "        # Llamamos al método de lectura del quijote y ponemos el texto y la palabra en minuscula para evitar el case sensitive.\n",
    "        texto = self.leer_quijote()\n",
    "        texto = texto.lower()\n",
    "        palabra = palabra.lower()\n",
    "\n",
    "        # Contamos las veces que aparece la palabra y aparecerá en pantalla.\n",
    "        contador = texto.count(palabra)\n",
    "        return print(\"La palabra aparece\", contador, \"veces\")\n",
    "    \n"
   ]
  },
  {
   "cell_type": "markdown",
   "metadata": {},
   "source": [
    "Probamos con un archivo TXT.\n",
    "1. Abrimos el archivo."
   ]
  },
  {
   "cell_type": "code",
   "execution_count": 4,
   "metadata": {},
   "outputs": [],
   "source": [
    "pruebatxt = Editorial(\"data/\",\"quijote.txt\")"
   ]
  },
  {
   "cell_type": "code",
   "execution_count": null,
   "metadata": {},
   "outputs": [],
   "source": [
    "contenidotxt = pruebatxt.apertura_archivo() # No lo ejecutamos para que no salgan todas las líneas"
   ]
  },
  {
   "cell_type": "markdown",
   "metadata": {},
   "source": [
    "2. Probamos el método de contar palabras, poniendo como parámetro 10, 9.8 y un string."
   ]
  },
  {
   "cell_type": "code",
   "execution_count": 5,
   "metadata": {},
   "outputs": [
    {
     "name": "stdout",
     "output_type": "stream",
     "text": [
      "Project Gutenberg Etext of Don Quijote, by Cervantes, in Spanish\n"
     ]
    }
   ],
   "source": [
    "pruebatxt.cuenta_palabras(10)"
   ]
  },
  {
   "cell_type": "code",
   "execution_count": 6,
   "metadata": {},
   "outputs": [
    {
     "name": "stdout",
     "output_type": "stream",
     "text": [
      "La operación no se puede hacer porque necesitamos un dato de tipo int\n"
     ]
    }
   ],
   "source": [
    "pruebatxt.cuenta_palabras(9.8)"
   ]
  },
  {
   "cell_type": "code",
   "execution_count": 7,
   "metadata": {},
   "outputs": [
    {
     "name": "stdout",
     "output_type": "stream",
     "text": [
      "La operación no se puede hacer porque necesitamos un dato de tipo int\n"
     ]
    }
   ],
   "source": [
    "pruebatxt.cuenta_palabras(\"2\")"
   ]
  },
  {
   "cell_type": "markdown",
   "metadata": {},
   "source": [
    "3. Probamos el método de contar las líneas, poniendo como prámatro \"todas\", 3 y 3.5."
   ]
  },
  {
   "cell_type": "code",
   "execution_count": null,
   "metadata": {},
   "outputs": [],
   "source": [
    "pruebatxt.cuenta_lineas() # No lo ejecutamos para que no salgan todas las líneas"
   ]
  },
  {
   "cell_type": "code",
   "execution_count": 8,
   "metadata": {},
   "outputs": [
    {
     "name": "stdout",
     "output_type": "stream",
     "text": [
      "Project Gutenberg Etext of Don Quijote, by Cervantes, in Spanish\n",
      " \n",
      " #2 in our series by Cervantes\n",
      "\n"
     ]
    }
   ],
   "source": [
    "pruebatxt.cuenta_lineas() # Este método tiene en cuenta las líneas en blanco"
   ]
  },
  {
   "cell_type": "code",
   "execution_count": 9,
   "metadata": {},
   "outputs": [
    {
     "name": "stdout",
     "output_type": "stream",
     "text": [
      "La operación no se puede hacer porque necesitamos un dato de tipo int o la palabra todas\n"
     ]
    }
   ],
   "source": [
    "pruebatxt.cuenta_lineas()"
   ]
  },
  {
   "cell_type": "markdown",
   "metadata": {},
   "source": [
    "4. Probamos el método de leer el Quijote "
   ]
  },
  {
   "cell_type": "code",
   "execution_count": null,
   "metadata": {},
   "outputs": [],
   "source": [
    "pruebatxt.leer_quijote() # No lo ejecutamos para que no salgan todas las líneas"
   ]
  },
  {
   "cell_type": "markdown",
   "metadata": {},
   "source": [
    "5. Probamos el método de contar cuantas veces aparece una palabra, poniendo la misma palabra en mayuscula y minúscula, para comprobar que no es case senstive."
   ]
  },
  {
   "cell_type": "code",
   "execution_count": 10,
   "metadata": {},
   "outputs": [
    {
     "name": "stdout",
     "output_type": "stream",
     "text": [
      "La palabra aparece 2158 veces\n"
     ]
    }
   ],
   "source": [
    "pruebatxt.aparicion_palabra(\"Quijote\")"
   ]
  },
  {
   "cell_type": "code",
   "execution_count": 11,
   "metadata": {},
   "outputs": [
    {
     "name": "stdout",
     "output_type": "stream",
     "text": [
      "La palabra aparece 2158 veces\n"
     ]
    }
   ],
   "source": [
    "pruebatxt.aparicion_palabra(\"quijote\")"
   ]
  }
 ],
 "metadata": {
  "kernelspec": {
   "display_name": "base",
   "language": "python",
   "name": "python3"
  },
  "language_info": {
   "codemirror_mode": {
    "name": "ipython",
    "version": 3
   },
   "file_extension": ".py",
   "mimetype": "text/x-python",
   "name": "python",
   "nbconvert_exporter": "python",
   "pygments_lexer": "ipython3",
   "version": "3.9.7"
  },
  "orig_nbformat": 4
 },
 "nbformat": 4,
 "nbformat_minor": 2
}
