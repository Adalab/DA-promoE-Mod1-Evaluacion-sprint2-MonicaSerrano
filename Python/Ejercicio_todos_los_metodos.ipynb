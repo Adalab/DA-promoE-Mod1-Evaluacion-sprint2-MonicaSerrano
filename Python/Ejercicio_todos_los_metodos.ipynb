{
 "cells": [
  {
   "cell_type": "code",
   "execution_count": 2,
   "metadata": {},
   "outputs": [],
   "source": [
    "import re"
   ]
  },
  {
   "cell_type": "code",
   "execution_count": 3,
   "metadata": {},
   "outputs": [],
   "source": [
    "# Creamos la clase\n",
    "class Editorial:\n",
    "\n",
    "    # Comenzamos haciendo el constructor que recibe dos parámetros: la ruta y el nombre del archivo con su extensión.\n",
    "    def __init__(self,direccion,nombre_archivo):\n",
    "        self.direccion = direccion\n",
    "        self.nombre_archivo = nombre_archivo\n",
    "\n",
    "    # Creamos un método de apertura de archivo, el cual no recibe parámetros y devuelve el contenido del archivo abierto en un solo string.\n",
    "    def apertura_archivo(self):\n",
    "\n",
    "        # Creamos la ruta a partir de la dirección y el nombre del archivo.\n",
    "        ruta = self.direccion + self.nombre_archivo\n",
    "\n",
    "        # Para evitar errores utilizamos un try que si no encuentra el archivo, lo muestre por pantalla sin que salga un error.\n",
    "        try:\n",
    "            # También se podría haber hecho f'{self.ruta}/{self.nombre_archivo}'\n",
    "            with open(ruta, 'r',encoding=\"latin-1\") as f:\n",
    "                contenido = f.read()\n",
    "\n",
    "                # Creamos un try para los archivos XML para quitarnos la versión que sale en la primera línea, si no, continúa el código.\n",
    "                try:\n",
    "                    contenido= contenido.replace('<?xml version=\"1.0\"?>', '')\n",
    "                except:\n",
    "                    pass\n",
    "\n",
    "                return contenido\n",
    "        except:\n",
    "            print(\"No se encuentra el archivo\")\n",
    "\n",
    "    # Creamos un método que nos muestra el numero de palabras que le especificamos en un parámetro.\n",
    "    def cuenta_palabras(self,numero_palabras):\n",
    "\n",
    "        # Llamamos al método de apertura de archivo, establecemos el patrón regex y guardamos un lista con todos los resultados.\n",
    "        texto = self.apertura_archivo()\n",
    "        patron = \"\\w+\"\n",
    "        jerarquia = re.findall(patron,texto)\n",
    "        \n",
    "        # Para evitar errores probamos que nos han pasado un dato de tipo int, si no sale un mensaje sin que sea un error.\n",
    "        if isinstance(numero_palabras,int) == True:\n",
    "\n",
    "            # Metemos en una nueva lista desde el indice 0 hasta el numero especificado de palabras.\n",
    "\n",
    "            lista_palabras = jerarquia[:numero_palabras]\n",
    "\n",
    "            # Unimos todos los elementos en un mismo string.\n",
    "\n",
    "            palabras = \" \".join(lista_palabras)\n",
    "            print(palabras)\n",
    "        else:\n",
    "            print(\"La operación no se puede hacer porque necesitamos un dato de tipo int\")\n",
    "        \n",
    "    # Creamos un método que nos muestra en pantalla en número de líneas que le especificamos sin un parámetro.\n",
    "    def cuenta_lineas(self):\n",
    "\n",
    "        # Creamos la ruta sabiendo la dirección y el nombre del archivo con la extensión. Posteriormente, leemos el archivo de tal manera que tenemos una donde cada iterable es un línea.\n",
    "        ruta = self.direccion + self.nombre_archivo\n",
    "        \n",
    "        with open(ruta, 'r',encoding=\"latin-1\") as f:\n",
    "            contenido = f.readlines()\n",
    "        \n",
    "        # Para que este método funcione para archivos xml, quitamos la primera línea donde aparece la versión del xml y se queden el resto de líneas.\n",
    "        if self.nombre_archivo.endswith(\".xml\") == True:\n",
    "            contenido = contenido[1:]\n",
    "        \n",
    "        # Preguntamos al usuario a través de un input.\n",
    "        numero_lineas = input(\"¿Cuántas líneas quieres leer?\")\n",
    "\n",
    "        # Comprobamos si ha escrito todas, apendeamos todas las líneas y las unimos con un join. Utilizamos código defensivo para que no sea case sensitive.\n",
    "        if numero_lineas.upper() == \"TODAS\":\n",
    "            lineas = contenido[:len(contenido)]\n",
    "            texto_lineas = \" \".join(lineas)\n",
    "            print(texto_lineas)\n",
    "        \n",
    "        else:\n",
    "\n",
    "            try: \n",
    "                \n",
    "                # Comprobamos si el número introducido es un int, introducimos hasta el número de líneas en una lista y hacemos join para que salga en un solo string.\n",
    "                numero_lineas = int(numero_lineas)\n",
    "                lineas = contenido[:numero_lineas]\n",
    "                texto_lineas = \" \".join(lineas)\n",
    "                print(texto_lineas)\n",
    "            \n",
    "            except:\n",
    "\n",
    "                # Si no es un int, saldrá una frase donde la operacion no se puede hacer.\n",
    "                print(\"La operación no se puede hacer porque necesitamos un dato de tipo int o la palabra todas\")\n",
    "    \n",
    "    # Creamos un método donde no se recibe nindún parámetro y como resultado obtenemos el texto del Quijote.\n",
    "    def leer_quijote(self):\n",
    "\n",
    "        # Creamos la ruta sabiendo la dirección y el nombre del archivo con la extensión. Posteriormente, leemos el archivo de tal manera que tenemos una donde cada iterable es un línea.\n",
    "        ruta = self.direccion + self.nombre_archivo\n",
    "\n",
    "        with open(ruta, 'r',encoding=\"latin-1\") as f:\n",
    "            contenido = f.readlines()\n",
    "\n",
    "        # Como explica el enunciado que el texto objetivo está entre unos números de líneas, las guardamos en un lista y lo juntamos en un join para que salga en un solo string.\n",
    "        lineas = contenido[1780:74276]\n",
    "        texto_lineas = \" \".join(lineas)\n",
    "        return texto_lineas\n",
    "\n",
    "    # Creamos un método que recibe como parámerto, la palabra que vamos a contar cuantas veces aparece en el texto.\n",
    "    # Podemos crear este método para que lea solo el contenido del libro del quijote pero dado que este método es para cualquier archivo decidimos que lea en el archivo entero.\n",
    "    def aparicion_palabra(self,palabra):\n",
    "\n",
    "        # Llamamos al método de apertura de archivo y ponemos el texto y la palabra en minuscula para evitar el case sensitive.\n",
    "        texto = self.apertura_archivo()\n",
    "        texto = texto.lower()\n",
    "        palabra = palabra.lower()\n",
    "\n",
    "        # Contamos las veces que aparece la palabra y aparecerá en pantalla.\n",
    "        contador = texto.count(palabra)\n",
    "        print(\"La palabra aparece\", contador, \"veces\")\n",
    "    \n",
    "    # Creamos un método que solo sirve para el archivo en concreto que nos ofrecen que se basa en el método anterior.\n",
    "    # La única diferencia es que el texto base viene de diferentes métodos (apertura/quijote)\n",
    "    def aparicion_libro(self,palabra):\n",
    "        texto = self.leer_quijote()\n",
    "        texto = texto.lower()\n",
    "        palabra = palabra.lower()\n",
    "        contador = texto.count(palabra)\n",
    "        return print(\"La palabra aparece\", contador, \"veces\")"
   ]
  },
  {
   "cell_type": "markdown",
   "metadata": {},
   "source": [
    "Probamos con un archivo XML.\n",
    "1. Abrimos el archivo."
   ]
  },
  {
   "cell_type": "code",
   "execution_count": 4,
   "metadata": {},
   "outputs": [],
   "source": [
    "pruebaxml = Editorial(\"data/\",\"peliculas.xml\")"
   ]
  },
  {
   "cell_type": "code",
   "execution_count": null,
   "metadata": {},
   "outputs": [],
   "source": [
    "contenidoxml = pruebaxml.apertura_archivo() #No lo ejecutamos para que no salgan todas las líneas"
   ]
  },
  {
   "cell_type": "markdown",
   "metadata": {},
   "source": [
    "2. Probamos el método de contar palabras, poniendo como parámetro 10, 9.8 y un string."
   ]
  },
  {
   "cell_type": "code",
   "execution_count": 5,
   "metadata": {},
   "outputs": [
    {
     "name": "stdout",
     "output_type": "stream",
     "text": [
      "collection genre category Action decade years 1980s movie favorite True\n"
     ]
    }
   ],
   "source": [
    "pruebaxml.cuenta_palabras(10)"
   ]
  },
  {
   "cell_type": "code",
   "execution_count": 6,
   "metadata": {},
   "outputs": [
    {
     "name": "stdout",
     "output_type": "stream",
     "text": [
      "La operación no se puede hacer porque necesitamos un dato de tipo int\n"
     ]
    }
   ],
   "source": [
    "pruebaxml.cuenta_palabras(9.8)"
   ]
  },
  {
   "cell_type": "code",
   "execution_count": 7,
   "metadata": {},
   "outputs": [
    {
     "name": "stdout",
     "output_type": "stream",
     "text": [
      "La operación no se puede hacer porque necesitamos un dato de tipo int\n"
     ]
    }
   ],
   "source": [
    "pruebaxml.cuenta_palabras(\"2\")"
   ]
  },
  {
   "cell_type": "markdown",
   "metadata": {},
   "source": [
    "3. Probamos el método de contar las líneas, poniendo como prámatro \"todas\", 3 y 3.5."
   ]
  },
  {
   "cell_type": "code",
   "execution_count": null,
   "metadata": {},
   "outputs": [],
   "source": [
    "pruebaxml.cuenta_lineas() #No lo ejecutamos para que no salgan todas las líneas"
   ]
  },
  {
   "cell_type": "code",
   "execution_count": 8,
   "metadata": {},
   "outputs": [
    {
     "name": "stdout",
     "output_type": "stream",
     "text": [
      "<collection>\n",
      "     <genre category=\"Action\">\n",
      "         <decade years=\"1980s\">\n",
      "\n"
     ]
    }
   ],
   "source": [
    "pruebaxml.cuenta_lineas()"
   ]
  },
  {
   "cell_type": "code",
   "execution_count": 9,
   "metadata": {},
   "outputs": [
    {
     "name": "stdout",
     "output_type": "stream",
     "text": [
      "La operación no se puede hacer porque necesitamos un dato de tipo int o la palabra todas\n"
     ]
    }
   ],
   "source": [
    "pruebaxml.cuenta_lineas()"
   ]
  },
  {
   "cell_type": "markdown",
   "metadata": {},
   "source": [
    "4. Probamos el método de contar cuantas veces aparece una palabra, poniendo la misma palabra en mayuscula y minúscula, para comprobar que no es case senstive.\n",
    "NOTA: Al tratarse de un xml, no se puede utilizar el método de leer_quijote ni contar palabras en el texto de leer_quijote ya que este texto no se encuentra en el fichero."
   ]
  },
  {
   "cell_type": "code",
   "execution_count": 10,
   "metadata": {},
   "outputs": [
    {
     "name": "stdout",
     "output_type": "stream",
     "text": [
      "La palabra aparece 19 veces\n"
     ]
    }
   ],
   "source": [
    "pruebaxml.aparicion_palabra(\"movie\")"
   ]
  },
  {
   "cell_type": "code",
   "execution_count": 11,
   "metadata": {},
   "outputs": [
    {
     "name": "stdout",
     "output_type": "stream",
     "text": [
      "La palabra aparece 19 veces\n"
     ]
    }
   ],
   "source": [
    "pruebaxml.aparicion_palabra(\"Movie\")"
   ]
  },
  {
   "cell_type": "markdown",
   "metadata": {},
   "source": [
    "Probamos con un archivo TXT.\n",
    "1. Abrimos el archivo."
   ]
  },
  {
   "cell_type": "code",
   "execution_count": 12,
   "metadata": {},
   "outputs": [],
   "source": [
    "pruebatxt = Editorial(\"data/\",\"quijote.txt\")"
   ]
  },
  {
   "cell_type": "code",
   "execution_count": null,
   "metadata": {},
   "outputs": [],
   "source": [
    "contenidotxt = pruebatxt.apertura_archivo() #No lo ejecutamos para que no salgan todas las líneas"
   ]
  },
  {
   "cell_type": "markdown",
   "metadata": {},
   "source": [
    "2. Probamos el método de contar palabras, poniendo como parámetro 10, 9.8 y un string."
   ]
  },
  {
   "cell_type": "code",
   "execution_count": 13,
   "metadata": {},
   "outputs": [
    {
     "name": "stdout",
     "output_type": "stream",
     "text": [
      "Project Gutenberg Etext of Don Quijote by Cervantes in Spanish\n"
     ]
    }
   ],
   "source": [
    "pruebatxt.cuenta_palabras(10)"
   ]
  },
  {
   "cell_type": "code",
   "execution_count": 14,
   "metadata": {},
   "outputs": [
    {
     "name": "stdout",
     "output_type": "stream",
     "text": [
      "La operación no se puede hacer porque necesitamos un dato de tipo int\n"
     ]
    }
   ],
   "source": [
    "pruebatxt.cuenta_palabras(9.8)"
   ]
  },
  {
   "cell_type": "code",
   "execution_count": 15,
   "metadata": {},
   "outputs": [
    {
     "name": "stdout",
     "output_type": "stream",
     "text": [
      "La operación no se puede hacer porque necesitamos un dato de tipo int\n"
     ]
    }
   ],
   "source": [
    "pruebatxt.cuenta_palabras(\"2\")"
   ]
  },
  {
   "cell_type": "markdown",
   "metadata": {},
   "source": [
    "3. Probamos el método de contar las líneas, poniendo como prámatro \"todas\", 3 y 3.5."
   ]
  },
  {
   "cell_type": "code",
   "execution_count": null,
   "metadata": {},
   "outputs": [],
   "source": [
    "pruebatxt.cuenta_lineas() # No lo ejecutamos para que no salgan todas las líneas"
   ]
  },
  {
   "cell_type": "code",
   "execution_count": 16,
   "metadata": {},
   "outputs": [
    {
     "name": "stdout",
     "output_type": "stream",
     "text": [
      "Project Gutenberg Etext of Don Quijote, by Cervantes, in Spanish\n",
      " \n",
      " #2 in our series by Cervantes\n",
      "\n"
     ]
    }
   ],
   "source": [
    "pruebatxt.cuenta_lineas() # Este método tiene en cuenta las líneas en blanco"
   ]
  },
  {
   "cell_type": "code",
   "execution_count": 17,
   "metadata": {},
   "outputs": [
    {
     "name": "stdout",
     "output_type": "stream",
     "text": [
      "La operación no se puede hacer porque necesitamos un dato de tipo int o la palabra todas\n"
     ]
    }
   ],
   "source": [
    "pruebatxt.cuenta_lineas()"
   ]
  },
  {
   "cell_type": "markdown",
   "metadata": {},
   "source": [
    "4. Probamos el método de leer el Quijote "
   ]
  },
  {
   "cell_type": "code",
   "execution_count": null,
   "metadata": {},
   "outputs": [],
   "source": [
    "pruebatxt.leer_quijote() # No lo ejecutamos para que no salgan todas las líneas"
   ]
  },
  {
   "cell_type": "markdown",
   "metadata": {},
   "source": [
    "5. Probamos el método de contar cuantas veces aparece una palabra en el contenido completo, poniendo la misma palabra en mayuscula y minúscula, para comprobar que no es case senstive."
   ]
  },
  {
   "cell_type": "code",
   "execution_count": 18,
   "metadata": {},
   "outputs": [
    {
     "name": "stdout",
     "output_type": "stream",
     "text": [
      "La palabra aparece 2182 veces\n"
     ]
    }
   ],
   "source": [
    "pruebatxt.aparicion_palabra(\"Quijote\")"
   ]
  },
  {
   "cell_type": "code",
   "execution_count": 19,
   "metadata": {},
   "outputs": [
    {
     "name": "stdout",
     "output_type": "stream",
     "text": [
      "La palabra aparece 2182 veces\n"
     ]
    }
   ],
   "source": [
    "pruebatxt.aparicion_palabra(\"quijote\")"
   ]
  },
  {
   "cell_type": "markdown",
   "metadata": {},
   "source": [
    "6. Probamos el método de contar cuantas veces aparece una palabra solo en el texto del quijote, poniendo la misma palabra en mayuscula y minúscula, para comprobar que no es case senstive."
   ]
  },
  {
   "cell_type": "code",
   "execution_count": 20,
   "metadata": {},
   "outputs": [
    {
     "name": "stdout",
     "output_type": "stream",
     "text": [
      "La palabra aparece 2158 veces\n"
     ]
    }
   ],
   "source": [
    "pruebatxt.aparicion_libro(\"Quijote\")"
   ]
  },
  {
   "cell_type": "code",
   "execution_count": 21,
   "metadata": {},
   "outputs": [
    {
     "name": "stdout",
     "output_type": "stream",
     "text": [
      "La palabra aparece 2158 veces\n"
     ]
    }
   ],
   "source": [
    "pruebatxt.aparicion_libro(\"quijote\")"
   ]
  }
 ],
 "metadata": {
  "kernelspec": {
   "display_name": "base",
   "language": "python",
   "name": "python3"
  },
  "language_info": {
   "codemirror_mode": {
    "name": "ipython",
    "version": 3
   },
   "file_extension": ".py",
   "mimetype": "text/x-python",
   "name": "python",
   "nbconvert_exporter": "python",
   "pygments_lexer": "ipython3",
   "version": "3.9.7"
  },
  "orig_nbformat": 4
 },
 "nbformat": 4,
 "nbformat_minor": 2
}
